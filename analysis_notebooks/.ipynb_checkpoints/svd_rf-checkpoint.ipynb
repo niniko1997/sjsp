{
 "cells": [
  {
   "cell_type": "code",
   "execution_count": 15,
   "metadata": {
    "collapsed": true
   },
   "outputs": [],
   "source": [
    "# imports\n",
    "# import modules\n",
    "import io\n",
    "import math\n",
    "import numpy\n",
    "from pathlib import Path\n",
    "import pandas as pd\n",
    "import seaborn as sns\n",
    "import matplotlib.pyplot as plt\n",
    "from sklearn import preprocessing"
   ]
  },
  {
   "cell_type": "code",
   "execution_count": 2,
   "metadata": {
    "collapsed": true
   },
   "outputs": [],
   "source": [
    "# setting up directory paths\n",
    "working_dir = Path('/Users/migineishvilin2/Documents/urfp_project')\n",
    "data_dir = working_dir.joinpath('data')\n",
    "anal_dir = working_dir.joinpath('analysis_notebooks')\n",
    "\n",
    "# setting up file paths\n",
    "data_file = data_dir.joinpath('raw_data.csv')"
   ]
  },
  {
   "cell_type": "code",
   "execution_count": 55,
   "metadata": {},
   "outputs": [
    {
     "name": "stdout",
     "output_type": "stream",
     "text": [
      "Number of Rows: 4953\n",
      "Number of Columns: 304\n",
      "4945 q2a1\n",
      "4951 q2a2\n",
      "4949 q2a3\n",
      "4943 q3a1\n",
      "4950 q3a2\n",
      "4948 q3a3\n",
      "4952 q17d1\n",
      "4951 q18c1\n",
      "4925 q18d\n",
      "4952 q18j\n",
      "4951 q18k\n",
      "4948 q18l\n",
      "4952 q19a8\n",
      "4951 g4b1\n",
      "4952 q21b1\n",
      "4951 q21c1\n",
      "27 cid\n",
      "4953 sjsid\n",
      "2309 q2a1\n",
      "2372 q2a2\n",
      "2174 q2a3\n",
      "2064 q3a1\n",
      "2018 q3a2\n",
      "1804 q3a3\n",
      "476 q12a1\n",
      "360 q12a2\n",
      "488 q12b1\n",
      "535 q12b2\n",
      "64 q15d\n",
      "214 q17d1\n",
      "95 q18a6\n",
      "152 q18c1\n",
      "1353 q18d\n",
      "176 q18e7\n",
      "71 q18g\n",
      "2187 Zip\n",
      "2313 q18h\n",
      "130 q18i1\n",
      "394 q18j\n",
      "439 q18k\n",
      "473 q18l\n",
      "1397 q19a8\n",
      "22 g4b1\n",
      "71 q21b1\n",
      "87 q21c1\n",
      "20 q22e9\n",
      "23 q23a2\n",
      "22 q23a4\n",
      "227 q23b1\n",
      "1936 zcta\n",
      "914 postoff\n",
      "356 county\n",
      "51 st\n",
      "50 state\n",
      "50 statefips\n",
      "405 staco\n",
      "1423 sqmi\n",
      "1862 zpop09\n",
      "1877 zpop09sqmi\n",
      "1853 zpop10\n",
      "1843 zwhite10\n",
      "1681 zblack10\n",
      "747 zamind10\n",
      "1518 zasianpi10\n",
      "1817 zmale10\n",
      "1834 zfemale10\n",
      "1855 znothisp10\n",
      "1738 zhisp10\n",
      "240 cbsa\n",
      "239 cbsaname\n",
      "79 csa\n",
      "79 csaname\n",
      "404 popden\n",
      "404 logpd\n",
      "29 r_q2a1\n",
      "29 r_q2a2\n",
      "29 r_q2a3\n",
      "29 r_q3a1\n",
      "29 r_q3a2\n",
      "29 r_q3a3\n",
      "22 q5scale\n",
      "22 q6scale\n",
      "25 q7scale\n",
      "56 q8scale\n",
      "53 q9scale\n",
      "55 q10scale\n",
      "32 q11scale\n",
      "50 q14scale\n",
      "1361 Bminumber\n",
      "70 Age\n",
      "70 age18\n",
      "Number of Rows: 4896\n",
      "Number of Columns: 304\n",
      "416514\n"
     ]
    },
    {
     "name": "stderr",
     "output_type": "stream",
     "text": [
      "/Users/migineishvilin2/Documents/urfp_project/analysis_notebooks/data_analysis.ipynb:4: FutureWarning: elementwise comparison failed; returning scalar instead, but in the future will perform elementwise comparison\n",
      "  \"cell_type\": \"markdown\",\n"
     ]
    },
    {
     "data": {
      "image/png": "[encoded data removed]",
      "text/plain": [
       "<matplotlib.figure.Figure at 0x138b56710>"
      ]
     },
     "metadata": {},
     "output_type": "display_data"
    },
    {
     "name": "stdout",
     "output_type": "stream",
     "text": [
      "Stored 'df_map' (DataFrame)\n",
      "2313\n"
     ]
    },
    {
     "ename": "SyntaxError",
     "evalue": "unexpected EOF while parsing (<ipython-input-55-7e49296a571e>, line 3)",
     "output_type": "error",
     "traceback": [
      "\u001b[0;36m  File \u001b[0;32m\"<ipython-input-55-7e49296a571e>\"\u001b[0;36m, line \u001b[0;32m3\u001b[0m\n\u001b[0;31m    graph_clusters(kmeans_q1a_age.labels_, df_map[['age18','q1a']]\u001b[0m\n\u001b[0m                                                                  ^\u001b[0m\n\u001b[0;31mSyntaxError\u001b[0m\u001b[0;31m:\u001b[0m unexpected EOF while parsing\n"
     ]
    }
   ],
   "source": [
    "%run /Users/migineishvilin2/Documents/urfp_project/analysis_notebooks/data_analysis.ipynb"
   ]
  },
  {
   "cell_type": "code",
   "execution_count": 56,
   "metadata": {},
   "outputs": [
    {
     "data": {
      "text/html": [
       "<div>\n",
       "<style>\n",
       "    .dataframe thead tr:only-child th {\n",
       "        text-align: right;\n",
       "    }\n",
       "\n",
       "    .dataframe thead th {\n",
       "        text-align: left;\n",
       "    }\n",
       "\n",
       "    .dataframe tbody tr th {\n",
       "        vertical-align: top;\n",
       "    }\n",
       "</style>\n",
       "<table border=\"1\" class=\"dataframe\">\n",
       "  <thead>\n",
       "    <tr style=\"text-align: right;\">\n",
       "      <th></th>\n",
       "      <th>sjsid</th>\n",
       "      <th>q1a</th>\n",
       "      <th>q1b</th>\n",
       "      <th>q1c</th>\n",
       "      <th>q2a1</th>\n",
       "      <th>q2a2</th>\n",
       "      <th>q2a3</th>\n",
       "      <th>q2b</th>\n",
       "      <th>q3a1</th>\n",
       "      <th>q3a2</th>\n",
       "      <th>...</th>\n",
       "      <th>q22c</th>\n",
       "      <th>q22d1</th>\n",
       "      <th>q22d2</th>\n",
       "      <th>q22f</th>\n",
       "      <th>q23c</th>\n",
       "      <th>q24a</th>\n",
       "      <th>q24b</th>\n",
       "      <th>q24c</th>\n",
       "      <th>q24d</th>\n",
       "      <th>q25</th>\n",
       "    </tr>\n",
       "  </thead>\n",
       "  <tbody>\n",
       "    <tr>\n",
       "      <th>0</th>\n",
       "      <td>10010157</td>\n",
       "      <td>1</td>\n",
       "      <td>7</td>\n",
       "      <td>7</td>\n",
       "      <td>Financial stability</td>\n",
       "      <td>My Grandmother's health</td>\n",
       "      <td>The financial stabilty of my extended family</td>\n",
       "      <td>1</td>\n",
       "      <td>Discrimination</td>\n",
       "      <td>Marriage rights</td>\n",
       "      <td>...</td>\n",
       "      <td>-1</td>\n",
       "      <td>-1</td>\n",
       "      <td>-1</td>\n",
       "      <td>0</td>\n",
       "      <td>1</td>\n",
       "      <td>4</td>\n",
       "      <td>4</td>\n",
       "      <td>4</td>\n",
       "      <td>4</td>\n",
       "      <td>4</td>\n",
       "    </tr>\n",
       "    <tr>\n",
       "      <th>1</th>\n",
       "      <td>10010120</td>\n",
       "      <td>1</td>\n",
       "      <td>1</td>\n",
       "      <td>2</td>\n",
       "      <td>job discrimination</td>\n",
       "      <td>housing discrimination</td>\n",
       "      <td>discrimination by law enforcement</td>\n",
       "      <td>3</td>\n",
       "      <td>job discrimination</td>\n",
       "      <td>housing discrimination</td>\n",
       "      <td>...</td>\n",
       "      <td>1</td>\n",
       "      <td>4</td>\n",
       "      <td>1</td>\n",
       "      <td>0</td>\n",
       "      <td>3</td>\n",
       "      <td>4</td>\n",
       "      <td>3</td>\n",
       "      <td>3</td>\n",
       "      <td>2</td>\n",
       "      <td>5</td>\n",
       "    </tr>\n",
       "    <tr>\n",
       "      <th>2</th>\n",
       "      <td>11020070</td>\n",
       "      <td>3</td>\n",
       "      <td>1</td>\n",
       "      <td>2</td>\n",
       "      <td>homosexual discrimination in india</td>\n",
       "      <td>employment non-discrimination</td>\n",
       "      <td>uafa + doma</td>\n",
       "      <td>1</td>\n",
       "      <td>enda</td>\n",
       "      <td>economic justice</td>\n",
       "      <td>...</td>\n",
       "      <td>0</td>\n",
       "      <td>0</td>\n",
       "      <td>0</td>\n",
       "      <td>0</td>\n",
       "      <td>1</td>\n",
       "      <td>2</td>\n",
       "      <td>2</td>\n",
       "      <td>2</td>\n",
       "      <td>2</td>\n",
       "      <td>3</td>\n",
       "    </tr>\n",
       "    <tr>\n",
       "      <th>3</th>\n",
       "      <td>11020117</td>\n",
       "      <td>1</td>\n",
       "      <td>2</td>\n",
       "      <td>1</td>\n",
       "      <td>learning to be a good ally</td>\n",
       "      <td>using my heterosexual privilege to work with LGBT</td>\n",
       "      <td>making my community aware to LGBT south asians</td>\n",
       "      <td>2</td>\n",
       "      <td>they are almost invisible</td>\n",
       "      <td>their own communties don't accept them</td>\n",
       "      <td>...</td>\n",
       "      <td>1</td>\n",
       "      <td>3</td>\n",
       "      <td>0</td>\n",
       "      <td>0</td>\n",
       "      <td>1</td>\n",
       "      <td>2</td>\n",
       "      <td>3</td>\n",
       "      <td>3</td>\n",
       "      <td>3</td>\n",
       "      <td>4</td>\n",
       "    </tr>\n",
       "    <tr>\n",
       "      <th>4</th>\n",
       "      <td>11020144</td>\n",
       "      <td>1</td>\n",
       "      <td>1</td>\n",
       "      <td>6</td>\n",
       "      <td>police brutality</td>\n",
       "      <td>war and militarism</td>\n",
       "      <td>economic injustice in terms of low pay, unaffo...</td>\n",
       "      <td>1</td>\n",
       "      <td>police brutality/criminalization</td>\n",
       "      <td>war and militarism</td>\n",
       "      <td>...</td>\n",
       "      <td>0</td>\n",
       "      <td>2</td>\n",
       "      <td>0</td>\n",
       "      <td>0</td>\n",
       "      <td>1</td>\n",
       "      <td>2</td>\n",
       "      <td>2</td>\n",
       "      <td>2</td>\n",
       "      <td>2</td>\n",
       "      <td>2</td>\n",
       "    </tr>\n",
       "  </tbody>\n",
       "</table>\n",
       "<p>5 rows × 93 columns</p>\n",
       "</div>"
      ],
      "text/plain": [
       "      sjsid  q1a  q1b  q1c                                q2a1  \\\n",
       "0  10010157    1    7    7                 Financial stability   \n",
       "1  10010120    1    1    2                  job discrimination   \n",
       "2  11020070    3    1    2  homosexual discrimination in india   \n",
       "3  11020117    1    2    1          learning to be a good ally   \n",
       "4  11020144    1    1    6                    police brutality   \n",
       "\n",
       "                                                q2a2  \\\n",
       "0                            My Grandmother's health   \n",
       "1                             housing discrimination   \n",
       "2                      employment non-discrimination   \n",
       "3  using my heterosexual privilege to work with LGBT   \n",
       "4                                 war and militarism   \n",
       "\n",
       "                                                q2a3  q2b  \\\n",
       "0       The financial stabilty of my extended family    1   \n",
       "1                  discrimination by law enforcement    3   \n",
       "2                                        uafa + doma    1   \n",
       "3     making my community aware to LGBT south asians    2   \n",
       "4  economic injustice in terms of low pay, unaffo...    1   \n",
       "\n",
       "                               q3a1                                    q3a2  \\\n",
       "0                    Discrimination                         Marriage rights   \n",
       "1                job discrimination                  housing discrimination   \n",
       "2                              enda                        economic justice   \n",
       "3         they are almost invisible  their own communties don't accept them   \n",
       "4  police brutality/criminalization                      war and militarism   \n",
       "\n",
       "  ...  q22c  q22d1  q22d2  q22f  q23c  q24a  q24b  q24c  q24d  q25  \n",
       "0 ...    -1     -1     -1     0     1     4     4     4     4    4  \n",
       "1 ...     1      4      1     0     3     4     3     3     2    5  \n",
       "2 ...     0      0      0     0     1     2     2     2     2    3  \n",
       "3 ...     1      3      0     0     1     2     3     3     3    4  \n",
       "4 ...     0      2      0     0     1     2     2     2     2    2  \n",
       "\n",
       "[5 rows x 93 columns]"
      ]
     },
     "execution_count": 56,
     "metadata": {},
     "output_type": "execute_result"
    }
   ],
   "source": [
    "df_map.head()"
   ]
  },
  {
   "cell_type": "code",
   "execution_count": 30,
   "metadata": {
    "collapsed": true
   },
   "outputs": [],
   "source": [
    "def normalize_s(s):\n",
    "    num_sum = 0\n",
    "    for i in range(0, len(s)):\n",
    "        num_sum = s[i]*s[i] + num_sum\n",
    "    \n",
    "    num_sum = math.sqrt(num_sum)\n",
    "    \n",
    "    normalized = []\n",
    "    \n",
    "    for i in range(0, len(s)):\n",
    "        normalized.append((s[i]/num_sum)*(s[i]/num_sum))\n",
    "    return normalized"
   ]
  },
  {
   "cell_type": "markdown",
   "metadata": {},
   "source": [
    "## SVD"
   ]
  },
  {
   "cell_type": "markdown",
   "metadata": {},
   "source": [
    "### Section 1"
   ]
  },
  {
   "cell_type": "code",
   "execution_count": 7,
   "metadata": {
    "collapsed": true
   },
   "outputs": [],
   "source": [
    "cut_off = 1"
   ]
  },
  {
   "cell_type": "code",
   "execution_count": 8,
   "metadata": {
    "collapsed": true
   },
   "outputs": [],
   "source": [
    "section_one = pd.DataFrame([])\n",
    "\n",
    "for i in range(1, len(df_map.columns)):\n",
    "    if df_map[df_map.columns[i]].dtype != 'object':\n",
    "        section_one[df_map.columns[i]] = df_map[df_map.columns[i]]\n",
    "    \n",
    "    cut_off = cut_off + 1\n",
    "    if df_map.columns[i] == 'q10f':\n",
    "        break"
   ]
  },
  {
   "cell_type": "code",
   "execution_count": 16,
   "metadata": {
    "collapsed": true
   },
   "outputs": [],
   "source": [
    "sec1_scale = preprocessing.scale(section_one)"
   ]
  },
  {
   "cell_type": "code",
   "execution_count": 19,
   "metadata": {
    "collapsed": true
   },
   "outputs": [],
   "source": [
    "u1, s1, v1 = numpy.linalg.svd(sec1_scale)"
   ]
  },
  {
   "cell_type": "code",
   "execution_count": 35,
   "metadata": {
    "collapsed": true
   },
   "outputs": [],
   "source": [
    "norm_s1 = normalize_s(s1)"
   ]
  },
  {
   "cell_type": "code",
   "execution_count": 47,
   "metadata": {
    "collapsed": true
   },
   "outputs": [],
   "source": [
    "# find 90% threshhold\n",
    "thresh_one = 0\n",
    "sum_one = 0\n",
    "for i in range(0, len(norm_s1)):\n",
    "    sum_one = sum_one + norm_s1[i]\n",
    "    thresh_one = thresh_one + 1\n",
    "    \n",
    "    if sum_one >= 0.9:\n",
    "        break"
   ]
  },
  {
   "cell_type": "markdown",
   "metadata": {},
   "source": [
    "### Section 2"
   ]
  },
  {
   "cell_type": "code",
   "execution_count": 11,
   "metadata": {
    "collapsed": true
   },
   "outputs": [],
   "source": [
    "section_two = pd.DataFrame([])\n",
    "\n",
    "for i in range(cut_off, len(df_map.columns)):\n",
    "    if df_map[df_map.columns[i]].dtype != 'object':\n",
    "        section_two[df_map.columns[i]] = df_map[df_map.columns[i]]\n",
    "    \n",
    "    cut_off = cut_off + 1\n",
    "    if df_map.columns[i] == 'q12d':\n",
    "        break"
   ]
  },
  {
   "cell_type": "code",
   "execution_count": 17,
   "metadata": {
    "collapsed": true
   },
   "outputs": [],
   "source": [
    "sec2_scale = preprocessing.scale(section_two)"
   ]
  },
  {
   "cell_type": "code",
   "execution_count": 20,
   "metadata": {
    "collapsed": true
   },
   "outputs": [],
   "source": [
    "u2, s2, v2 = numpy.linalg.svd(sec2_scale)"
   ]
  },
  {
   "cell_type": "code",
   "execution_count": 42,
   "metadata": {
    "collapsed": true
   },
   "outputs": [],
   "source": [
    "norm_s2 = normalize_s(s2)"
   ]
  },
  {
   "cell_type": "code",
   "execution_count": 49,
   "metadata": {
    "collapsed": true
   },
   "outputs": [],
   "source": [
    "# find 90% threshhold\n",
    "thresh_two = 0\n",
    "sum_two = 0\n",
    "for i in range(0, len(norm_s2)):\n",
    "    sum_two = sum_two + norm_s2[i]\n",
    "    thresh_two = thresh_two + 1\n",
    "    \n",
    "    if sum_two >= 0.9:\n",
    "        break"
   ]
  },
  {
   "cell_type": "markdown",
   "metadata": {},
   "source": [
    "### Section 3"
   ]
  },
  {
   "cell_type": "code",
   "execution_count": 13,
   "metadata": {
    "collapsed": true
   },
   "outputs": [],
   "source": [
    "section_three = pd.DataFrame([])\n",
    "\n",
    "for i in range(cut_off, len(df_map.columns)):\n",
    "    if df_map[df_map.columns[i]].dtype != 'object':\n",
    "        section_three[df_map.columns[i]] = df_map[df_map.columns[i]]\n",
    "    \n",
    "    cut_off = cut_off + 1\n",
    "    if df_map.columns[i] == 'q16b':\n",
    "        break"
   ]
  },
  {
   "cell_type": "code",
   "execution_count": 18,
   "metadata": {
    "collapsed": true
   },
   "outputs": [],
   "source": [
    "sec3_scale = preprocessing.scale(section_three)"
   ]
  },
  {
   "cell_type": "code",
   "execution_count": 21,
   "metadata": {
    "collapsed": true
   },
   "outputs": [],
   "source": [
    "u3, s3, v3 = numpy.linalg.svd(sec3_scale)"
   ]
  },
  {
   "cell_type": "code",
   "execution_count": 46,
   "metadata": {
    "collapsed": true
   },
   "outputs": [],
   "source": [
    "norm_s3 = normalize_s(s3)"
   ]
  },
  {
   "cell_type": "code",
   "execution_count": 52,
   "metadata": {
    "collapsed": true
   },
   "outputs": [],
   "source": [
    "# find 90% threshhold\n",
    "thresh_three = 0\n",
    "sum_three = 0\n",
    "for i in range(0, len(norm_s3)):\n",
    "    sum_three = sum_three + norm_s3[i]\n",
    "    thresh_three = thresh_three + 1\n",
    "    \n",
    "    if sum_three >= 0.9:\n",
    "        break"
   ]
  },
  {
   "cell_type": "markdown",
   "metadata": {},
   "source": [
    "### Section 4"
   ]
  },
  {
   "cell_type": "code",
   "execution_count": 57,
   "metadata": {
    "collapsed": true
   },
   "outputs": [],
   "source": [
    "section_four = pd.DataFrame([])\n",
    "\n",
    "for i in range(cut_off, len(df_map.columns)):\n",
    "    if df_map[df_map.columns[i]].dtype != 'object':\n",
    "        section_four[df_map.columns[i]] = df_map[df_map.columns[i]]\n",
    "    \n",
    "    cut_off = cut_off + 1\n",
    "    if df_map.columns[i] == 'q25':\n",
    "        break"
   ]
  },
  {
   "cell_type": "code",
   "execution_count": 59,
   "metadata": {
    "collapsed": true
   },
   "outputs": [],
   "source": [
    "sec4_scale = preprocessing.scale(section_four)"
   ]
  },
  {
   "cell_type": "code",
   "execution_count": 60,
   "metadata": {
    "collapsed": true
   },
   "outputs": [],
   "source": [
    "u4, s4, v4 = numpy.linalg.svd(sec4_scale)"
   ]
  },
  {
   "cell_type": "code",
   "execution_count": 61,
   "metadata": {
    "collapsed": true
   },
   "outputs": [],
   "source": [
    "norm_s4 = normalize_s(s4)"
   ]
  },
  {
   "cell_type": "code",
   "execution_count": 64,
   "metadata": {
    "collapsed": true
   },
   "outputs": [],
   "source": [
    "# find 90% threshhold\n",
    "thresh_four = 0\n",
    "sum_four = 0\n",
    "for i in range(0, len(norm_s4)):\n",
    "    sum_four = sum_four + norm_s4[i]\n",
    "    thresh_four = thresh_four + 1\n",
    "    \n",
    "    if sum_four >= 0.9:\n",
    "        break"
   ]
  },
  {
   "cell_type": "code",
   "execution_count": 66,
   "metadata": {},
   "outputs": [
    {
     "name": "stdout",
     "output_type": "stream",
     "text": [
      "17 25\n"
     ]
    }
   ],
   "source": [
    "print(thresh_four, len(norm_s4))"
   ]
  },
  {
   "cell_type": "code",
   "execution_count": null,
   "metadata": {
    "collapsed": true
   },
   "outputs": [],
   "source": []
  }
 ],
 "metadata": {
  "kernelspec": {
   "display_name": "Python 3",
   "language": "python",
   "name": "python3"
  },
  "language_info": {
   "codemirror_mode": {
    "name": "ipython",
    "version": 3
   },
   "file_extension": ".py",
   "mimetype": "text/x-python",
   "name": "python",
   "nbconvert_exporter": "python",
   "pygments_lexer": "ipython3",
   "version": "3.6.1"
  }
 },
 "nbformat": 4,
 "nbformat_minor": 2
}
